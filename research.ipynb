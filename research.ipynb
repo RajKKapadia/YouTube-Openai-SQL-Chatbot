{
 "cells": [
  {
   "cell_type": "code",
   "execution_count": 1,
   "metadata": {},
   "outputs": [],
   "source": [
    "import pandas as pd\n",
    "from sqlalchemy import create_engine\n",
    "import re"
   ]
  },
  {
   "cell_type": "code",
   "execution_count": 2,
   "metadata": {},
   "outputs": [],
   "source": [
    "def clean_column_names(column_name: str) -> str:\n",
    "    cleaned_name = column_name.replace(' ', '_')\n",
    "    cleaned_name = re.sub(r'[^\\w_]', '', cleaned_name)\n",
    "    return cleaned_name"
   ]
  },
  {
   "cell_type": "code",
   "execution_count": 3,
   "metadata": {},
   "outputs": [],
   "source": [
    "username = 'logan'\n",
    "password = 'password'\n",
    "host = 'localhost'\n",
    "port = '3306'\n",
    "database = 'neeti_sql'"
   ]
  },
  {
   "cell_type": "code",
   "execution_count": 4,
   "metadata": {},
   "outputs": [],
   "source": [
    "csv_file_path = 'BRS Production Report-3.csv'"
   ]
  },
  {
   "cell_type": "code",
   "execution_count": 5,
   "metadata": {},
   "outputs": [],
   "source": [
    "engine = create_engine(f'mysql+mysqlconnector://{username}:{password}@{host}:{port}/{database}')"
   ]
  },
  {
   "cell_type": "code",
   "execution_count": 6,
   "metadata": {},
   "outputs": [],
   "source": [
    "data = pd.read_csv(csv_file_path)"
   ]
  },
  {
   "cell_type": "code",
   "execution_count": 7,
   "metadata": {},
   "outputs": [],
   "source": [
    "data.columns = [clean_column_names(col) for col in data.columns]"
   ]
  },
  {
   "cell_type": "code",
   "execution_count": 8,
   "metadata": {},
   "outputs": [
    {
     "data": {
      "text/html": [
       "<div>\n",
       "<style scoped>\n",
       "    .dataframe tbody tr th:only-of-type {\n",
       "        vertical-align: middle;\n",
       "    }\n",
       "\n",
       "    .dataframe tbody tr th {\n",
       "        vertical-align: top;\n",
       "    }\n",
       "\n",
       "    .dataframe thead th {\n",
       "        text-align: right;\n",
       "    }\n",
       "</style>\n",
       "<table border=\"1\" class=\"dataframe\">\n",
       "  <thead>\n",
       "    <tr style=\"text-align: right;\">\n",
       "      <th></th>\n",
       "      <th>Added_User</th>\n",
       "      <th>Added_Time</th>\n",
       "      <th>Date</th>\n",
       "      <th>Select_Shift</th>\n",
       "      <th>Select_Plant</th>\n",
       "      <th>Bittern_GPL</th>\n",
       "      <th>Be</th>\n",
       "      <th>Ca2</th>\n",
       "      <th>pH</th>\n",
       "      <th>Bittern_Temp</th>\n",
       "      <th>...</th>\n",
       "      <th>Electrical_Related_Shutdown_Hours</th>\n",
       "      <th>Instrument_Related_Hours</th>\n",
       "      <th>Utility_Related_Hours</th>\n",
       "      <th>Operational_Shutdown_Hours</th>\n",
       "      <th>Planned_Shutdown_Hours</th>\n",
       "      <th>RM_Shortage_Shutdown_Hours</th>\n",
       "      <th>Raw_water_Shortage_Hours</th>\n",
       "      <th>Resources_Shutdown_Hours</th>\n",
       "      <th>Running_Hours</th>\n",
       "      <th>Shutdown_Hours</th>\n",
       "    </tr>\n",
       "  </thead>\n",
       "  <tbody>\n",
       "    <tr>\n",
       "      <th>0</th>\n",
       "      <td>sonu.rai_agrocel1</td>\n",
       "      <td>16-Jan-2024 22:17:51</td>\n",
       "      <td>16-Jan-2024</td>\n",
       "      <td>First Shift</td>\n",
       "      <td>S3</td>\n",
       "      <td>0.324</td>\n",
       "      <td>26.0</td>\n",
       "      <td>0.0</td>\n",
       "      <td>2.0</td>\n",
       "      <td>19.5</td>\n",
       "      <td>...</td>\n",
       "      <td>0.0</td>\n",
       "      <td>0.0</td>\n",
       "      <td>0.0</td>\n",
       "      <td>0.0</td>\n",
       "      <td>0.0</td>\n",
       "      <td>0.0</td>\n",
       "      <td>0.0</td>\n",
       "      <td>0.0</td>\n",
       "      <td>6.5</td>\n",
       "      <td>1.5</td>\n",
       "    </tr>\n",
       "    <tr>\n",
       "      <th>1</th>\n",
       "      <td>sonu.rai_agrocel1</td>\n",
       "      <td>16-Jan-2024 22:18:36</td>\n",
       "      <td>16-Jan-2024</td>\n",
       "      <td>First Shift</td>\n",
       "      <td>S4</td>\n",
       "      <td>0.324</td>\n",
       "      <td>26.0</td>\n",
       "      <td>0.0</td>\n",
       "      <td>2.0</td>\n",
       "      <td>19.5</td>\n",
       "      <td>...</td>\n",
       "      <td>0.0</td>\n",
       "      <td>0.0</td>\n",
       "      <td>0.0</td>\n",
       "      <td>0.0</td>\n",
       "      <td>0.0</td>\n",
       "      <td>0.0</td>\n",
       "      <td>0.0</td>\n",
       "      <td>0.0</td>\n",
       "      <td>6.5</td>\n",
       "      <td>1.5</td>\n",
       "    </tr>\n",
       "    <tr>\n",
       "      <th>2</th>\n",
       "      <td>sonu.rai_agrocel1</td>\n",
       "      <td>16-Jan-2024 22:19:25</td>\n",
       "      <td>16-Jan-2024</td>\n",
       "      <td>First Shift</td>\n",
       "      <td>S5</td>\n",
       "      <td>0.324</td>\n",
       "      <td>26.0</td>\n",
       "      <td>0.0</td>\n",
       "      <td>2.0</td>\n",
       "      <td>19.5</td>\n",
       "      <td>...</td>\n",
       "      <td>0.0</td>\n",
       "      <td>0.0</td>\n",
       "      <td>0.0</td>\n",
       "      <td>0.0</td>\n",
       "      <td>0.0</td>\n",
       "      <td>0.0</td>\n",
       "      <td>0.0</td>\n",
       "      <td>0.0</td>\n",
       "      <td>6.5</td>\n",
       "      <td>1.5</td>\n",
       "    </tr>\n",
       "    <tr>\n",
       "      <th>3</th>\n",
       "      <td>sonu.rai_agrocel1</td>\n",
       "      <td>16-Jan-2024 22:20:51</td>\n",
       "      <td>16-Jan-2024</td>\n",
       "      <td>First Shift</td>\n",
       "      <td>S6</td>\n",
       "      <td>0.324</td>\n",
       "      <td>26.0</td>\n",
       "      <td>0.0</td>\n",
       "      <td>2.0</td>\n",
       "      <td>19.5</td>\n",
       "      <td>...</td>\n",
       "      <td>0.0</td>\n",
       "      <td>0.0</td>\n",
       "      <td>0.0</td>\n",
       "      <td>0.0</td>\n",
       "      <td>0.0</td>\n",
       "      <td>0.0</td>\n",
       "      <td>0.0</td>\n",
       "      <td>0.0</td>\n",
       "      <td>6.5</td>\n",
       "      <td>1.5</td>\n",
       "    </tr>\n",
       "    <tr>\n",
       "      <th>4</th>\n",
       "      <td>sonu.rai_agrocel1</td>\n",
       "      <td>16-Jan-2024 22:21:26</td>\n",
       "      <td>16-Jan-2024</td>\n",
       "      <td>First Shift</td>\n",
       "      <td>S7</td>\n",
       "      <td>0.324</td>\n",
       "      <td>26.0</td>\n",
       "      <td>0.0</td>\n",
       "      <td>2.0</td>\n",
       "      <td>19.5</td>\n",
       "      <td>...</td>\n",
       "      <td>0.0</td>\n",
       "      <td>0.0</td>\n",
       "      <td>0.0</td>\n",
       "      <td>0.0</td>\n",
       "      <td>0.0</td>\n",
       "      <td>0.0</td>\n",
       "      <td>0.0</td>\n",
       "      <td>0.0</td>\n",
       "      <td>6.5</td>\n",
       "      <td>1.5</td>\n",
       "    </tr>\n",
       "  </tbody>\n",
       "</table>\n",
       "<p>5 rows × 54 columns</p>\n",
       "</div>"
      ],
      "text/plain": [
       "          Added_User            Added_Time         Date Select_Shift  \\\n",
       "0  sonu.rai_agrocel1  16-Jan-2024 22:17:51  16-Jan-2024  First Shift   \n",
       "1  sonu.rai_agrocel1  16-Jan-2024 22:18:36  16-Jan-2024  First Shift   \n",
       "2  sonu.rai_agrocel1  16-Jan-2024 22:19:25  16-Jan-2024  First Shift   \n",
       "3  sonu.rai_agrocel1  16-Jan-2024 22:20:51  16-Jan-2024  First Shift   \n",
       "4  sonu.rai_agrocel1  16-Jan-2024 22:21:26  16-Jan-2024  First Shift   \n",
       "\n",
       "  Select_Plant  Bittern_GPL    Be  Ca2   pH  Bittern_Temp  ...  \\\n",
       "0           S3        0.324  26.0  0.0  2.0          19.5  ...   \n",
       "1           S4        0.324  26.0  0.0  2.0          19.5  ...   \n",
       "2           S5        0.324  26.0  0.0  2.0          19.5  ...   \n",
       "3           S6        0.324  26.0  0.0  2.0          19.5  ...   \n",
       "4           S7        0.324  26.0  0.0  2.0          19.5  ...   \n",
       "\n",
       "   Electrical_Related_Shutdown_Hours  Instrument_Related_Hours  \\\n",
       "0                                0.0                       0.0   \n",
       "1                                0.0                       0.0   \n",
       "2                                0.0                       0.0   \n",
       "3                                0.0                       0.0   \n",
       "4                                0.0                       0.0   \n",
       "\n",
       "   Utility_Related_Hours  Operational_Shutdown_Hours  Planned_Shutdown_Hours  \\\n",
       "0                    0.0                         0.0                     0.0   \n",
       "1                    0.0                         0.0                     0.0   \n",
       "2                    0.0                         0.0                     0.0   \n",
       "3                    0.0                         0.0                     0.0   \n",
       "4                    0.0                         0.0                     0.0   \n",
       "\n",
       "   RM_Shortage_Shutdown_Hours  Raw_water_Shortage_Hours  \\\n",
       "0                         0.0                       0.0   \n",
       "1                         0.0                       0.0   \n",
       "2                         0.0                       0.0   \n",
       "3                         0.0                       0.0   \n",
       "4                         0.0                       0.0   \n",
       "\n",
       "   Resources_Shutdown_Hours  Running_Hours  Shutdown_Hours  \n",
       "0                       0.0            6.5             1.5  \n",
       "1                       0.0            6.5             1.5  \n",
       "2                       0.0            6.5             1.5  \n",
       "3                       0.0            6.5             1.5  \n",
       "4                       0.0            6.5             1.5  \n",
       "\n",
       "[5 rows x 54 columns]"
      ]
     },
     "execution_count": 8,
     "metadata": {},
     "output_type": "execute_result"
    }
   ],
   "source": [
    "data.head()"
   ]
  },
  {
   "cell_type": "code",
   "execution_count": 9,
   "metadata": {},
   "outputs": [
    {
     "data": {
      "text/plain": [
       "22484"
      ]
     },
     "execution_count": 9,
     "metadata": {},
     "output_type": "execute_result"
    }
   ],
   "source": [
    "table_name = 'brs_production_report'\n",
    "data.to_sql(table_name, engine, if_exists='replace', index=False, method='multi', chunksize=100)"
   ]
  },
  {
   "cell_type": "code",
   "execution_count": 10,
   "metadata": {},
   "outputs": [],
   "source": [
    "import mysql.connector\n",
    "\n",
    "import config\n",
    "\n",
    "cnx = mysql.connector.connect(user=config.MYSQL_USER, password=config.MYSQL_PASSWORD,\n",
    "                              host=config.MYSQL_HOST, port=config.MYSQL_PORT, database=config.MYSQL_DB_NAME)"
   ]
  },
  {
   "cell_type": "code",
   "execution_count": 11,
   "metadata": {},
   "outputs": [],
   "source": [
    "def get_column_names(cnx: mysql.connector.MySQLConnection, table_name: str) -> list[str]:\n",
    "    \"\"\"Return a list of column names.\"\"\"\n",
    "    cursor = cnx.cursor()\n",
    "    column_names = []\n",
    "    cursor.execute(\n",
    "        f\"SELECT * FROM `INFORMATION_SCHEMA`.`COLUMNS` WHERE `TABLE_SCHEMA`='{config.MYSQL_DB_NAME}' AND `TABLE_NAME`='{table_name}';\")\n",
    "    for col in cursor:\n",
    "        column_names.append([col[3], col[7]])\n",
    "    cursor.close()\n",
    "    return column_names"
   ]
  },
  {
   "cell_type": "code",
   "execution_count": 12,
   "metadata": {},
   "outputs": [],
   "source": [
    "data_definations = {\n",
    "    \"tables\": [\n",
    "        {\n",
    "            \"name\": table_name,\n",
    "            \"description\": \"This table stores detailed information about different parameters of BRS production.\",\n",
    "            \"columns\": []\n",
    "        }\n",
    "    ]\n",
    "}"
   ]
  },
  {
   "cell_type": "code",
   "execution_count": 13,
   "metadata": {},
   "outputs": [],
   "source": [
    "columns = get_column_names(cnx, table_name)"
   ]
  },
  {
   "cell_type": "code",
   "execution_count": 14,
   "metadata": {},
   "outputs": [],
   "source": [
    "for column in columns:\n",
    "    data_definations['tables'][0]['columns'].append(\n",
    "        {\n",
    "            \"name\": str(column[0]),\n",
    "            \"type\": str(column[1]),\n",
    "            \"description\": \"\"\n",
    "        }\n",
    "    )"
   ]
  },
  {
   "cell_type": "code",
   "execution_count": 15,
   "metadata": {},
   "outputs": [],
   "source": [
    "import json\n",
    "\n",
    "with open('data_definations.json', 'w') as file:\n",
    "    file.write(json.dumps(data_definations, indent=2))"
   ]
  },
  {
   "cell_type": "code",
   "execution_count": null,
   "metadata": {},
   "outputs": [],
   "source": []
  }
 ],
 "metadata": {
  "kernelspec": {
   "display_name": "venv",
   "language": "python",
   "name": "python3"
  },
  "language_info": {
   "codemirror_mode": {
    "name": "ipython",
    "version": 3
   },
   "file_extension": ".py",
   "mimetype": "text/x-python",
   "name": "python",
   "nbconvert_exporter": "python",
   "pygments_lexer": "ipython3",
   "version": "3.10.12"
  }
 },
 "nbformat": 4,
 "nbformat_minor": 2
}
